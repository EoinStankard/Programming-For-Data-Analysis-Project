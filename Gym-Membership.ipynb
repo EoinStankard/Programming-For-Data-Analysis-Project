{
 "cells": [
  {
   "cell_type": "markdown",
   "metadata": {},
   "source": [
    "# <center>Project 2019</center>\n",
    "## <center>Programming for Data Analysis</center>\n",
    "\n",
    "#### Problem statement\n",
    "\n",
    "For this project you must create a data set by simulating a real-world phenomenon of\n",
    "your choosing. You may pick any phenomenon you wish – you might pick one that is\n",
    "of interest to you in your personal or professional life. Then, rather than collect data\n",
    "related to the phenomenon, you should model and synthesise such data using Python.\n",
    "We suggest you use the numpy.random package for this purpose.\n",
    "Specifically, in this project you should:\n",
    "\n",
    " - Choose a real-world phenomenon that can be measured and for which you could collect at least one-hundred data points across at least four different variables.\n",
    " - Investigate the types of variables involved, their likely distributions, and their relationships with each other.\n",
    " - Synthesise/simulate a data set as closely matching their properties as possible.\n",
    " - Detail your research and implement the simulation in a Jupyter notebook – the data set itself can simply be displayed in an output cell within the notebook.\n",
    " \n",
    "\n",
    "#### Project\n",
    "\n",
    "The project I will be working on is Gym membership, I will simulate data for the following variables\n",
    "\n",
    " - Gender (Male/Female)\n",
    " - Age\n",
    " - Fitness Level\n",
    " - Payment Type (Monthly/Yearly)\n",
    " - Smoker\n",
    " - Profession (Student/Professional)\n",
    " - Weight (BMI)\n",
    "\n",
    "I will be researching to be able to create a data frame that will be created from figures given online. I believe this is an interesting area to researh as the fitness industy has boomed in the last 5 years or so. This is dues to alot of different factors such as a large increase of personal and group training programs, fitness wearables (fitbit,apple watch), affordable gyms and being able to stream different exercises easily on platforms like Instagram.\n",
    "\n"
   ]
  },
  {
   "cell_type": "code",
   "execution_count": 1,
   "metadata": {},
   "outputs": [],
   "source": [
    "import numpy as np\n",
    "import pandas as pd\n",
    "import matplotlib.pyplot as plt"
   ]
  },
  {
   "cell_type": "markdown",
   "metadata": {},
   "source": [
    "## Gender\n",
    "\n",
    "Gender will be one of the easier variable to simulate due to the fact that there is only two options Male and Female, So for this i will be using the numpy.random.choice() function. The population of ireland so far in 2019 is 4,882,495 with 49.61% being Males and 50.39% being females."
   ]
  },
  {
   "cell_type": "code",
   "execution_count": 27,
   "metadata": {},
   "outputs": [
    {
     "data": {
      "text/plain": [
       "array(['Male', 'Female', 'Male', 'Male', 'Male', 'Female', 'Male', 'Male',\n",
       "       'Female', 'Male', 'Male', 'Female', 'Female', 'Male', 'Male',\n",
       "       'Male', 'Male', 'Male', 'Female', 'Male', 'Male', 'Male', 'Female',\n",
       "       'Male', 'Male', 'Female', 'Male', 'Male', 'Female', 'Male',\n",
       "       'Female', 'Female', 'Female', 'Female', 'Female', 'Female',\n",
       "       'Female', 'Female', 'Male', 'Female', 'Female', 'Female', 'Female',\n",
       "       'Female', 'Female', 'Male', 'Male', 'Male', 'Female', 'Female',\n",
       "       'Male', 'Male', 'Male', 'Male', 'Female', 'Female', 'Male',\n",
       "       'Female', 'Male', 'Female', 'Male', 'Female', 'Male', 'Male',\n",
       "       'Female', 'Male', 'Male', 'Male', 'Female', 'Male', 'Male', 'Male',\n",
       "       'Female', 'Male', 'Male', 'Male', 'Male', 'Male', 'Female',\n",
       "       'Female', 'Male', 'Male', 'Female', 'Female', 'Male', 'Male',\n",
       "       'Female', 'Female', 'Female', 'Male', 'Male', 'Female', 'Male',\n",
       "       'Male', 'Male', 'Male', 'Male', 'Female', 'Male', 'Male'],\n",
       "      dtype='<U6')"
      ]
     },
     "execution_count": 27,
     "metadata": {},
     "output_type": "execute_result"
    }
   ],
   "source": [
    "gender = ['Male','Female']\n",
    "pM = 0.4961 # Probability of the Gender being a male\n",
    "pF = 0.5039 # Probability of Gender being Female\n",
    "\n",
    "genders = np.random.choice(gender,100, p=[pM,pF])\n",
    "genders"
   ]
  },
  {
   "cell_type": "code",
   "execution_count": 28,
   "metadata": {},
   "outputs": [
    {
     "name": "stdout",
     "output_type": "stream",
     "text": [
      "58 Males\n",
      "42 Females\n"
     ]
    },
    {
     "data": {
      "text/plain": [
       "<BarContainer object of 2 artists>"
      ]
     },
     "execution_count": 28,
     "metadata": {},
     "output_type": "execute_result"
    },
    {
     "data": {
      "image/png": "[encoded data removed]",
      "text/plain": [
       "<Figure size 432x288 with 1 Axes>"
      ]
     },
     "metadata": {
      "needs_background": "light"
     },
     "output_type": "display_data"
    }
   ],
   "source": [
    "Males = 0\n",
    "Females = 0\n",
    "\n",
    "for i in range(len(genders)):\n",
    "    if genders[i] == \"Male\":\n",
    "        Males = Males +1\n",
    "        #print(\"Males\")\n",
    "    else:\n",
    "        Females = Females +1\n",
    "        #print(\"Females\")\n",
    "\n",
    "print(Males , \"Males\")\n",
    "print(Females , \"Females\")\n",
    "plt.bar(gender,[Males,Females])"
   ]
  },
  {
   "cell_type": "markdown",
   "metadata": {},
   "source": [
    "## References\n",
    "\n",
    " - http://worldpopulationreview.com/countries/ireland-population/\n",
    " - https://www.forbes.com/sites/benmidgley/2018/09/26/the-six-reasons-the-fitness-industry-is-booming/#2cf0c1aa506d\n",
    " - "
   ]
  }
 ],
 "metadata": {
  "kernelspec": {
   "display_name": "Python 3",
   "language": "python",
   "name": "python3"
  },
  "language_info": {
   "codemirror_mode": {
    "name": "ipython",
    "version": 3
   },
   "file_extension": ".py",
   "mimetype": "text/x-python",
   "name": "python",
   "nbconvert_exporter": "python",
   "pygments_lexer": "ipython3",
   "version": "3.7.1"
  }
 },
 "nbformat": 4,
 "nbformat_minor": 2
}
